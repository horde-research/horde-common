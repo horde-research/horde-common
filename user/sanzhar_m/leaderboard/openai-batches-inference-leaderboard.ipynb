{
 "cells": [
  {
   "cell_type": "code",
   "execution_count": 1,
   "id": "24fffe1d-a622-4794-8ce3-bf7a9e512e15",
   "metadata": {},
   "outputs": [
    {
     "name": "stderr",
     "output_type": "stream",
     "text": [
      "/opt/miniconda3/envs/olga_scipts_experiment/lib/python3.11/site-packages/tqdm/auto.py:21: TqdmWarning: IProgress not found. Please update jupyter and ipywidgets. See https://ipywidgets.readthedocs.io/en/stable/user_install.html\n",
      "  from .autonotebook import tqdm as notebook_tqdm\n"
     ]
    }
   ],
   "source": [
    "import os\n",
    "import pandas as pd\n",
    "from datasets import load_dataset"
   ]
  },
  {
   "cell_type": "code",
   "execution_count": 3,
   "id": "d5f2c324-0bd1-4954-9776-610b9cfa49cc",
   "metadata": {},
   "outputs": [],
   "source": [
    "openai_key = os.environ.get('OPENAI_API_KEY')"
   ]
  },
  {
   "cell_type": "code",
   "execution_count": 3,
   "id": "779638ab-6779-46b8-bc2a-60cc239a5b6a",
   "metadata": {},
   "outputs": [],
   "source": [
    "mmlu   = load_dataset(\"kz-transformers/mmlu-translated-kk\")\n",
    "const  = load_dataset(\"kz-transformers/kazakh-constitution-mc\")\n",
    "dastur = load_dataset(\"kz-transformers/kazakh-dastur-mc\")\n",
    "ent    = load_dataset(\"kz-transformers/kazakh-unified-national-testing-mc\")\n",
    "gsm    = load_dataset(\"kz-transformers/gsm8k-kk-translated\")"
   ]
  },
  {
   "cell_type": "code",
   "execution_count": 7,
   "id": "d34473d2-628f-47ed-b130-5dfcb40afa33",
   "metadata": {},
   "outputs": [],
   "source": [
    "import json\n",
    "\n",
    "\n",
    "def format_mmlu_like(entry, dataset_name, index):\n",
    "    title = entry.get(\"Title\", \"\")\n",
    "    text = entry.get(\"Text\", \"\")\n",
    "    question = entry.get(\"Question\", \"\")\n",
    "    options = []\n",
    "    for opt_key in [\"Option A\", \"Option B\", \"Option C\", \"Option D\"]:\n",
    "        if opt_key in entry and entry[opt_key] is not None:\n",
    "            options.append(entry[opt_key])\n",
    "            \n",
    "    user_prompt = f\"Title: {title}\\nContext: {text}\\nQuestion: {question}\\nOptions:\\n\"\n",
    "    for i, opt in enumerate(options):\n",
    "        label = chr(ord('A') + i)\n",
    "        user_prompt += f\"{label}: {opt}\\n\"\n",
    "    user_prompt += \"\\nБір ғана дұрыс жауаптың әріпін көрсетіңіз:\"\n",
    "    \n",
    "    json_line = {\n",
    "        \"custom_id\": f\"{dataset_name}-{index}\",\n",
    "        \"method\": \"POST\",\n",
    "        \"url\": \"/v1/chat/completions\",\n",
    "        \"body\": {\n",
    "            \"model\": \"gpt-4o-mini\",\n",
    "            \"messages\": [\n",
    "                {\n",
    "                    \"role\": \"system\", \n",
    "                    \"content\": \"Сіз қазақ тілінде жауап беретін білімді, пайдалы көмекшісіз. Қазақстан мәдениеті, ғылым, тарих және басқа да салалар бойынша көптаңдаулы сұрақтарға жауап беріңіз. Сұрақты және берілген жауап нұсқаларын мұқият оқып, ең дұрысын бір ғана әріппен (A, B, C, т.б.) белгілеңіз.\"\n",
    "                },\n",
    "                {\"role\": \"user\", \"content\": user_prompt}\n",
    "            ],\n",
    "            \"max_tokens\": 10\n",
    "        }\n",
    "    }\n",
    "    return json_line\n",
    "\n",
    "\n",
    "def format_ent_like(entry, dataset_name, subject_name, index):\n",
    "    subject = entry.get(\"subject\", \"\")\n",
    "    question = entry.get(\"question\", \"\")\n",
    "    \n",
    "    option_keys = [k for k in ['A','B','C','D','E','F','G','H'] if k in entry and entry[k] is not None and entry[k] != '<missing>']\n",
    "    \n",
    "    user_prompt = f\"Subject: {subject}\\nQuestion: {question}\\nOptions:\\n\"\n",
    "    for key in option_keys:\n",
    "        user_prompt += f\"{key}: {entry[key]}\\n\"\n",
    "    user_prompt += \"\\nБір ғана дұрыс жауаптың әріпін көрсетіңіз:\"\n",
    "    \n",
    "    json_line = {\n",
    "        \"custom_id\": f\"{dataset_name}-{subject_name}-{index}\",\n",
    "        \"method\": \"POST\",\n",
    "        \"url\": \"/v1/chat/completions\",\n",
    "        \"body\": {\n",
    "            \"model\": \"gpt-4o-mini\",\n",
    "            \"messages\": [\n",
    "                {\n",
    "                    \"role\": \"system\", \n",
    "                    \"content\": \"Сіз қазақ тілінде жауап беретін білімді, пайдалы көмекшісіз. Қазақстан мәдениеті, ғылым, тарих және басқа да салалар бойынша көптаңдаулы сұрақтарға жауап беріңіз. Сұрақты және берілген жауап нұсқаларын мұқият оқып, ең дұрысын бір ғана әріппен (A, B, C, т.б.) белгілеңіз.\"\n",
    "                },\n",
    "                {\"role\": \"user\", \"content\": user_prompt}\n",
    "            ],\n",
    "            \"max_tokens\": 10\n",
    "        }\n",
    "    }\n",
    "    return json_line\n",
    "\n",
    "\n",
    "with open(\"batch_requests.jsonl\", \"w\", encoding=\"utf-8\") as f:\n",
    "    ds = mmlu[\"validation\"]\n",
    "    for i, entry in enumerate(ds):\n",
    "        line = format_mmlu_like(entry, \"mmlu\", i)\n",
    "        f.write(json.dumps(line, ensure_ascii=False) + \"\\n\")\n",
    "\n",
    "    for dataset_name, dataset_obj in [(\"const\", const), (\"dastur\", dastur)]:\n",
    "        ds = dataset_obj[\"test\"]\n",
    "        for i, entry in enumerate(ds):\n",
    "            line = format_mmlu_like(entry, dataset_name, i)\n",
    "            f.write(json.dumps(line, ensure_ascii=False) + \"\\n\")\n",
    "\n",
    "    for subject_name in ent.keys():\n",
    "        ds = ent[subject_name]\n",
    "        for i, entry in enumerate(ds):\n",
    "            line = format_ent_like(entry, \"ent\", subject_name, i)\n",
    "            f.write(json.dumps(line, ensure_ascii=False) + \"\\n\")"
   ]
  },
  {
   "cell_type": "code",
   "execution_count": 9,
   "id": "96b8eeb3-9e3c-4747-9ab0-ae4d4f441c78",
   "metadata": {},
   "outputs": [],
   "source": [
    "from openai import OpenAI\n",
    "client = OpenAI(api_key=openai_key)\n",
    "\n",
    "batch_input_file = client.files.create(\n",
    "    file=open(\"batch_requests.jsonl\", \"rb\"),\n",
    "    purpose=\"batch\"\n",
    ")"
   ]
  },
  {
   "cell_type": "code",
   "execution_count": 11,
   "id": "1aaa9ff7-ac40-4e18-b2c8-41aca028c6d6",
   "metadata": {},
   "outputs": [
    {
     "data": {
      "text/plain": [
       "Batch(id='batch_675b43f4cbb88190b501e849947a30cc', completion_window='24h', created_at=1734034420, endpoint='/v1/chat/completions', input_file_id='file-S5xZ6TSDMM2SPV6u15GHdK', object='batch', status='validating', cancelled_at=None, cancelling_at=None, completed_at=None, error_file_id=None, errors=None, expired_at=None, expires_at=1734120820, failed_at=None, finalizing_at=None, in_progress_at=None, metadata={'description': 'nightly eval job'}, output_file_id=None, request_counts=BatchRequestCounts(completed=0, failed=0, total=0))"
      ]
     },
     "execution_count": 11,
     "metadata": {},
     "output_type": "execute_result"
    }
   ],
   "source": [
    "batch_input_file_id = batch_input_file.id\n",
    "\n",
    "client.batches.create(\n",
    "  input_file_id=batch_input_file_id,\n",
    "  endpoint=\"/v1/chat/completions\",\n",
    "  completion_window=\"24h\",\n",
    "  metadata={\n",
    "    \"description\": \"nightly eval job\"\n",
    "  }\n",
    ")"
   ]
  },
  {
   "cell_type": "code",
   "execution_count": 53,
   "id": "2a07c13b-498d-4161-af9c-ddf2a2d866df",
   "metadata": {},
   "outputs": [
    {
     "data": {
      "text/plain": [
       "FileObject(id='file-S5xZ6TSDMM2SPV6u15GHdK', bytes=22905609, created_at=1734034155, filename='batch_requests.jsonl', object='file', purpose='batch', status='processed', status_details=None)"
      ]
     },
     "execution_count": 53,
     "metadata": {},
     "output_type": "execute_result"
    }
   ],
   "source": [
    "batch_input_file"
   ]
  },
  {
   "cell_type": "code",
   "execution_count": 22,
   "id": "a9c1613c-0d66-45e5-b154-4a4efa16a5f0",
   "metadata": {},
   "outputs": [
    {
     "name": "stdout",
     "output_type": "stream",
     "text": [
      "Batch(id='batch_675b43f4cbb88190b501e849947a30cc', completion_window='24h', created_at=1734034420, endpoint='/v1/chat/completions', input_file_id='file-S5xZ6TSDMM2SPV6u15GHdK', object='batch', status='completed', cancelled_at=None, cancelling_at=None, completed_at=1734038114, error_file_id=None, errors=None, expired_at=None, expires_at=1734120820, failed_at=None, finalizing_at=1734036994, in_progress_at=1734034425, metadata={'description': 'nightly eval job'}, output_file_id='file-FQdij62Y18TyFwjwMVbXyN', request_counts=BatchRequestCounts(completed=17800, failed=0, total=17800))\n"
     ]
    }
   ],
   "source": [
    "print(client.batches.retrieve('batch_675b43f4cbb88190b501e849947a30cc'))"
   ]
  },
  {
   "cell_type": "code",
   "execution_count": 61,
   "id": "36514fc7-cb09-4960-a694-1e9d64c736fa",
   "metadata": {},
   "outputs": [],
   "source": [
    "file_response = client.files.content('file-FQdij62Y18TyFwjwMVbXyN')"
   ]
  },
  {
   "cell_type": "code",
   "execution_count": 62,
   "id": "b8069668-905c-4c9d-ba91-24b6f7fef50b",
   "metadata": {},
   "outputs": [],
   "source": [
    "response = file_response.text"
   ]
  },
  {
   "cell_type": "code",
   "execution_count": 67,
   "id": "d826db6a-91d5-4498-9279-bb2f232b0770",
   "metadata": {},
   "outputs": [],
   "source": [
    "with open('response.jsonl', 'w+') as f:\n",
    "    f.write(response)"
   ]
  },
  {
   "cell_type": "code",
   "execution_count": 68,
   "id": "38655eab-d8d5-40e7-95b4-bc9d7b4f26f1",
   "metadata": {},
   "outputs": [],
   "source": [
    "x = pd.read_json('response.jsonl', lines=True)"
   ]
  }
 ],
 "metadata": {
  "kernelspec": {
   "display_name": "olga_scripts",
   "language": "python",
   "name": "olga_scripts"
  },
  "language_info": {
   "codemirror_mode": {
    "name": "ipython",
    "version": 3
   },
   "file_extension": ".py",
   "mimetype": "text/x-python",
   "name": "python",
   "nbconvert_exporter": "python",
   "pygments_lexer": "ipython3",
   "version": "3.11.8"
  }
 },
 "nbformat": 4,
 "nbformat_minor": 5
}
