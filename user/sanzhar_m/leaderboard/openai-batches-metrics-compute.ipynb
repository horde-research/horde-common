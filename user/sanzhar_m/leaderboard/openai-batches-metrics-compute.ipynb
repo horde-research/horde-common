{
 "cells": [
  {
   "cell_type": "code",
   "execution_count": 156,
   "id": "24fffe1d-a622-4794-8ce3-bf7a9e512e15",
   "metadata": {},
   "outputs": [],
   "source": [
    "import os\n",
    "import pandas as pd\n",
    "import numpy as np\n",
    "from datasets import load_dataset\n",
    "from pprint import pprint\n",
    "from openai import OpenAI"
   ]
  },
  {
   "cell_type": "code",
   "execution_count": 330,
   "id": "779638ab-6779-46b8-bc2a-60cc239a5b6a",
   "metadata": {},
   "outputs": [],
   "source": [
    "mmlu   = load_dataset(\"kz-transformers/mmlu-translated-kk\")\n",
    "const  = load_dataset(\"kz-transformers/kazakh-constitution-mc\")\n",
    "dastur = load_dataset(\"kz-transformers/kazakh-dastur-mc\")\n",
    "ent    = load_dataset(\"kz-transformers/kazakh-unified-national-testing-mc\")"
   ]
  },
  {
   "cell_type": "code",
   "execution_count": 333,
   "id": "96b8eeb3-9e3c-4747-9ab0-ae4d4f441c78",
   "metadata": {},
   "outputs": [],
   "source": [
    "openai_key = os.environ['OPENAI_API_KEY']\n",
    "\n",
    "client = OpenAI(api_key=openai_key)"
   ]
  },
  {
   "cell_type": "code",
   "execution_count": 61,
   "id": "36514fc7-cb09-4960-a694-1e9d64c736fa",
   "metadata": {},
   "outputs": [],
   "source": [
    "file_response = client.files.content('file-FQdij62Y18TyFwjwMVbXyN')"
   ]
  },
  {
   "cell_type": "code",
   "execution_count": 62,
   "id": "b8069668-905c-4c9d-ba91-24b6f7fef50b",
   "metadata": {},
   "outputs": [],
   "source": [
    "response = file_response.text"
   ]
  },
  {
   "cell_type": "code",
   "execution_count": 67,
   "id": "d826db6a-91d5-4498-9279-bb2f232b0770",
   "metadata": {},
   "outputs": [],
   "source": [
    "with open('response.jsonl', 'w+') as f:\n",
    "    f.write(response)"
   ]
  },
  {
   "cell_type": "code",
   "execution_count": 68,
   "id": "38655eab-d8d5-40e7-95b4-bc9d7b4f26f1",
   "metadata": {},
   "outputs": [],
   "source": [
    "x = pd.read_json('response.jsonl', lines=True)"
   ]
  },
  {
   "cell_type": "code",
   "execution_count": 83,
   "id": "f485e403-246b-416a-a496-3881fcca2e27",
   "metadata": {},
   "outputs": [],
   "source": [
    "predicts = []\n",
    "for idx, row in x.iterrows():\n",
    "    r = row.response['body']['choices'][0]['message']['content']\n",
    "    predicts.append(r)"
   ]
  },
  {
   "cell_type": "code",
   "execution_count": 360,
   "id": "320ecceb-2b7e-41d5-9f73-abd09bdfd3e5",
   "metadata": {},
   "outputs": [
    {
     "data": {
      "text/plain": [
       "['B', 'A', 'A', 'C', 'C']"
      ]
     },
     "execution_count": 360,
     "metadata": {},
     "output_type": "execute_result"
    }
   ],
   "source": [
    "predicts[:5]"
   ]
  },
  {
   "cell_type": "code",
   "execution_count": 289,
   "id": "f0e434ba-d471-4aa1-95dc-baa8558a262c",
   "metadata": {},
   "outputs": [],
   "source": [
    "x = pd.read_json('response.jsonl', lines=True)"
   ]
  },
  {
   "cell_type": "code",
   "execution_count": 138,
   "id": "3f97cf1a-7eba-4464-91b8-08e1f536a27f",
   "metadata": {},
   "outputs": [],
   "source": [
    "ds = mmlu[\"validation\"]\n",
    "labels = []\n",
    "for i, entry in enumerate(ds):\n",
    "    labels.append(entry['Correct Answer'])\n",
    "\n",
    "for dataset_name, dataset_obj in [(\"const\", const), (\"dastur\", dastur)]:\n",
    "    ds = dataset_obj[\"test\"]\n",
    "    for i, entry in enumerate(ds):\n",
    "        labels.append(entry['Correct Answer'])\n",
    "        \n",
    "\n",
    "for subject_name in ent.keys():\n",
    "    ds = ent[subject_name]\n",
    "    for i, entry in enumerate(ds):\n",
    "        labels.append(entry['correct_answer'])"
   ]
  },
  {
   "cell_type": "code",
   "execution_count": 231,
   "id": "2587bb1d-34f7-411d-9d7d-fcff0b6e1b40",
   "metadata": {},
   "outputs": [
    {
     "data": {
      "text/plain": [
       "(17800, 17800)"
      ]
     },
     "execution_count": 231,
     "metadata": {},
     "output_type": "execute_result"
    }
   ],
   "source": [
    "len(labels), len(predicts)"
   ]
  },
  {
   "cell_type": "code",
   "execution_count": 140,
   "id": "cb8aec85-6bee-4d3b-88f9-a4fcfb750f6c",
   "metadata": {},
   "outputs": [],
   "source": [
    "from sklearn.metrics import classification_report"
   ]
  },
  {
   "cell_type": "code",
   "execution_count": 149,
   "id": "c7741076-96d0-498e-b512-54d07d3f6cea",
   "metadata": {},
   "outputs": [],
   "source": [
    "for idx, fp in enumerate(labels):\n",
    "    if fp == 'А':\n",
    "        labels[idx] = 'A'"
   ]
  },
  {
   "cell_type": "code",
   "execution_count": 186,
   "id": "84316a84-ca3b-42b0-9316-88e8a70f5ff7",
   "metadata": {},
   "outputs": [
    {
     "name": "stdout",
     "output_type": "stream",
     "text": [
      "              precision    recall  f1-score   support\n",
      "\n",
      "           A       0.60      0.63      0.61      4707\n",
      "           B       0.54      0.70      0.61      3288\n",
      "           C       0.58      0.61      0.60      3919\n",
      "           D       0.63      0.56      0.59      3059\n",
      "           E       0.71      0.46      0.56      2827\n",
      "\n",
      "    accuracy                           0.60     17800\n",
      "   macro avg       0.61      0.59      0.60     17800\n",
      "weighted avg       0.61      0.60      0.60     17800\n",
      "\n"
     ]
    }
   ],
   "source": [
    "print(classification_report(labels, final_predicts))"
   ]
  },
  {
   "cell_type": "code",
   "execution_count": 290,
   "id": "302cd8ed-a72a-4c78-a918-2c124261b250",
   "metadata": {},
   "outputs": [],
   "source": [
    "x['predicts'] = final_predicts\n",
    "x['labels']   = labels"
   ]
  },
  {
   "cell_type": "code",
   "execution_count": 291,
   "id": "da544b5c-0db0-49a3-a85c-9b5c98a10210",
   "metadata": {},
   "outputs": [],
   "source": [
    "x['category'] = x.custom_id.apply(lambda x: x.split('-')[:-1][-1])"
   ]
  },
  {
   "cell_type": "code",
   "execution_count": 208,
   "id": "62f477ee-85b6-43fc-a22c-6ca0afe34f9f",
   "metadata": {},
   "outputs": [],
   "source": [
    "from sklearn.metrics import accuracy_score"
   ]
  },
  {
   "cell_type": "code",
   "execution_count": 292,
   "id": "89d76d23-746e-47b6-a1ed-23cc661c1555",
   "metadata": {},
   "outputs": [],
   "source": [
    "x['category'] = x.category.apply(lambda x:  'mmlu_translated_kk' if x == 'mmlu' else x)\n",
    "x['category'] = x.category.apply(lambda x:  'kk_constitution_mc' if x == 'const' else x)\n",
    "x['category'] = x.category.apply(lambda x:  'kk_biology_unt_mc' if x == 'biology' else x)\n",
    "x['category'] = x.category.apply(lambda x:  'kk_dastur_mc' if x == 'dastur' else x)\n",
    "x['category'] = x.category.apply(lambda x:  'kk_english_unt_mc' if x == 'english' else x)\n",
    "x['category'] = x.category.apply(lambda x:  'kazakh_and_literature_unt_mc' if x == 'kazakh_and_literature' else x)\n",
    "x['category'] = x.category.apply(lambda x:  'kk_geography_unt_mc' if x == 'geography' else x)\n",
    "x['category'] = x.category.apply(lambda x:  'kk_history_of_kazakhstan_unt_mc' if x == 'history_of_kazakhstan' else x)\n",
    "x['category'] = x.category.apply(lambda x:  'kk_human_society_rights_unt_mc' if x == 'human_society_rights' else x)\n",
    "x['category'] = x.category.apply(lambda x:  'kk_world_history_unt_mc' if x == 'world_history' else x)"
   ]
  },
  {
   "cell_type": "code",
   "execution_count": 294,
   "id": "c14a6812-d7d0-417b-9092-33e214ef3009",
   "metadata": {},
   "outputs": [],
   "source": [
    "categories = x.category.unique()"
   ]
  },
  {
   "cell_type": "code",
   "execution_count": 325,
   "id": "6bc7895c-b37c-42fb-9453-6ceeb906a666",
   "metadata": {},
   "outputs": [
    {
     "name": "stdout",
     "output_type": "stream",
     "text": [
      "mmlu_translated_kk\n",
      "0.5623775310254735\n",
      "\n",
      "kk_constitution_mc\n",
      "0.9565217391304348\n",
      "\n",
      "kk_dastur_mc\n",
      "0.9383084577114428\n",
      "\n",
      "kazakh_and_literature_unt_mc\n",
      "0.4953071672354949\n",
      "\n",
      "kk_geography_unt_mc\n",
      "0.5675203725261933\n",
      "\n",
      "kk_world_history_unt_mc\n",
      "0.6091205211726385\n",
      "\n",
      "kk_history_of_kazakhstan_unt_mc\n",
      "0.47883435582822087\n",
      "\n",
      "kk_english_unt_mc\n",
      "0.6763768775603095\n",
      "\n",
      "kk_biology_unt_mc\n",
      "0.607421875\n",
      "\n",
      "kk_human_society_rights_unt_mc\n",
      "0.7309417040358744\n",
      "\n"
     ]
    }
   ],
   "source": [
    "state = {\"model_dtype\": \"torch.float16\",\n",
    "        \"model\": \"gpt-4o-mini\",\n",
    "        \"ppl\": 0}\n",
    "\n",
    "for idx, category in enumerate(categories):\n",
    "    buffer = x[x.category == category]\n",
    "\n",
    "    print(category)\n",
    "    print(accuracy_score(buffer.labels, buffer.predicts))\n",
    "    print()\n",
    "    \n",
    "    state[category] =  accuracy_score(buffer.labels, buffer.predicts)"
   ]
  },
  {
   "cell_type": "code",
   "execution_count": 358,
   "id": "2a8cc59f-60b6-4343-889b-2a58fad1a03b",
   "metadata": {},
   "outputs": [],
   "source": [
    "with open('submit_resul_gpt4o-mini.json', 'w') as f:\n",
    "    json.dump([state], f)"
   ]
  },
  {
   "cell_type": "markdown",
   "id": "76b01c20-6c9f-4b07-8523-6946c283de26",
   "metadata": {},
   "source": [
    "# compute dummy random baseline"
   ]
  },
  {
   "cell_type": "code",
   "execution_count": 322,
   "id": "e1e39c0a-8a60-40d6-8111-c0eb258628cf",
   "metadata": {},
   "outputs": [
    {
     "name": "stdout",
     "output_type": "stream",
     "text": [
      "\n",
      "mmlu_translated_kk\n",
      "0.22991508817766165\n",
      "\n",
      "kk_constitution_mc\n",
      "0.25120772946859904\n",
      "\n",
      "kk_dastur_mc\n",
      "0.24477611940298508\n",
      "\n",
      "kazakh_and_literature_unt_mc\n",
      "0.2090443686006826\n",
      "\n",
      "kk_geography_unt_mc\n",
      "0.2019790454016298\n",
      "\n",
      "kk_world_history_unt_mc\n",
      "0.1986970684039088\n",
      "\n",
      "kk_history_of_kazakhstan_unt_mc\n",
      "0.19417177914110428\n",
      "\n",
      "kk_english_unt_mc\n",
      "0.189804278561675\n",
      "\n",
      "kk_biology_unt_mc\n",
      "0.22330729166666666\n",
      "\n",
      "kk_human_society_rights_unt_mc\n",
      "0.242152466367713\n"
     ]
    }
   ],
   "source": [
    "responses = dict()\n",
    "state = {\"model_dtype\": \"torch.float16\",\n",
    "        \"model\": \"dummy-random-baseline\",\n",
    "        \"ppl\": 0}\n",
    "\n",
    "for idx, category in enumerate(categories):\n",
    "    buffer = x[x.category == category]\n",
    "\n",
    "    print()\n",
    "\n",
    "    random_preds = []\n",
    "    for label in buffer.labels:\n",
    "        random_predict = np.random.choice(buffer.labels.unique())\n",
    "        random_preds.append(random_predict)\n",
    "    print(category)\n",
    "    print(accuracy_score(buffer.labels, random_preds))\n",
    "    responses[category] = {\n",
    "        'acc,none':accuracy_score(buffer.labels, random_preds),\n",
    "        'acc_stderr,none': 0.01,\n",
    "        'alias': category\n",
    "    }\n",
    "\n",
    "    state[category] =  accuracy_score(buffer.labels, random_preds)"
   ]
  },
  {
   "cell_type": "code",
   "execution_count": 323,
   "id": "017e0a10-7c63-4d0a-9b0d-52ba924b6db2",
   "metadata": {},
   "outputs": [
    {
     "data": {
      "text/plain": [
       "'[{\"model_dtype\": \"torch.float16\", \"model\": \"dummy-random-baseline\", \"ppl\": 0, \"mmlu_translated_kk\": 0.22991508817766165, \"kk_constitution_mc\": 0.25120772946859904, \"kk_dastur_mc\": 0.24477611940298508, \"kazakh_and_literature_unt_mc\": 0.2090443686006826, \"kk_geography_unt_mc\": 0.2019790454016298, \"kk_world_history_unt_mc\": 0.1986970684039088, \"kk_history_of_kazakhstan_unt_mc\": 0.19417177914110428, \"kk_english_unt_mc\": 0.189804278561675, \"kk_biology_unt_mc\": 0.22330729166666666, \"kk_human_society_rights_unt_mc\": 0.242152466367713}]'"
      ]
     },
     "execution_count": 323,
     "metadata": {},
     "output_type": "execute_result"
    }
   ],
   "source": [
    "with open('submit_resul_dummy_baseline.json', 'w') as f:\n",
    "    json.dump([state], f)"
   ]
  }
 ],
 "metadata": {
  "kernelspec": {
   "display_name": "olga_scripts",
   "language": "python",
   "name": "olga_scripts"
  },
  "language_info": {
   "codemirror_mode": {
    "name": "ipython",
    "version": 3
   },
   "file_extension": ".py",
   "mimetype": "text/x-python",
   "name": "python",
   "nbconvert_exporter": "python",
   "pygments_lexer": "ipython3",
   "version": "3.11.8"
  }
 },
 "nbformat": 4,
 "nbformat_minor": 5
}
